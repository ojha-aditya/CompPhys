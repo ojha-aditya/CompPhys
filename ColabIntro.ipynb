{
  "nbformat": 4,
  "nbformat_minor": 0,
  "metadata": {
    "colab": {
      "provenance": [],
      "authorship_tag": "ABX9TyMvtrryt8ue984WxxDcgeBZ",
      "include_colab_link": true
    },
    "kernelspec": {
      "name": "python3",
      "display_name": "Python 3"
    },
    "language_info": {
      "name": "python"
    }
  },
  "cells": [
    {
      "cell_type": "markdown",
      "metadata": {
        "id": "view-in-github",
        "colab_type": "text"
      },
      "source": [
        "<a href=\"https://colab.research.google.com/github/ubsuny/CompPhys/blob/Colab/ColabIntro.ipynb\" target=\"_parent\"><img src=\"https://colab.research.google.com/assets/colab-badge.svg\" alt=\"Open In Colab\"/></a>"
      ]
    },
    {
      "cell_type": "markdown",
      "source": [
        "# Google Colab introduction"
      ],
      "metadata": {
        "id": "kPbDiLm_qJZw"
      }
    },
    {
      "cell_type": "markdown",
      "source": [
        "Google Colab uses Jupyter for displaying text (written in markdown)\n",
        "``` markdown\n",
        "## this is **markdown**\n",
        "I can even use $\\LaTeX$ equations here $...$\n",
        "$\\hbar \\omega= E$\n",
        "and embed pictures: ![Max Planck](https://upload.wikimedia.org/wikipedia/commons/thumb/1/16/Max_Planck_Wirkungsquantums_20050815.jpg/179px-Max_Planck_Wirkungsquantums_20050815.jpg)\n",
        "```\n",
        "## this is **markdown**\n",
        "I can even use $\\LaTeX$ equations here $...$\n",
        "$\\hbar \\omega= E$\n",
        "and embed pictures: ![CC BY 2.5, Author unknown](https://upload.wikimedia.org/wikipedia/commons/thumb/1/16/Max_Planck_Wirkungsquantums_20050815.jpg/179px-Max_Planck_Wirkungsquantums_20050815.jpg)\n"
      ],
      "metadata": {
        "id": "1dU1_sdtqb8y"
      }
    },
    {
      "cell_type": "markdown",
      "source": [
        "You can add a text cell by pressing the **+ Text** button at the top of the page."
      ],
      "metadata": {
        "id": "PQ70sADmsu_J"
      }
    },
    {
      "cell_type": "code",
      "source": [],
      "metadata": {
        "id": "LdfUhVsVs4NE"
      },
      "execution_count": null,
      "outputs": []
    }
  ]
}