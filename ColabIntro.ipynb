{
  "nbformat": 4,
  "nbformat_minor": 0,
  "metadata": {
    "colab": {
      "provenance": [],
      "authorship_tag": "ABX9TyO0JLlwMLgVMWAkvcCTGaXG",
      "include_colab_link": true
    },
    "kernelspec": {
      "name": "python3",
      "display_name": "Python 3"
    },
    "language_info": {
      "name": "python"
    }
  },
  "cells": [
    {
      "cell_type": "markdown",
      "metadata": {
        "id": "view-in-github",
        "colab_type": "text"
      },
      "source": [
        "<a href=\"https://colab.research.google.com/github/ubsuny/CompPhys/blob/Colab/ColabIntro.ipynb\" target=\"_parent\"><img src=\"https://colab.research.google.com/assets/colab-badge.svg\" alt=\"Open In Colab\"/></a>"
      ]
    },
    {
      "cell_type": "markdown",
      "source": [
        "# Google Colab introduction"
      ],
      "metadata": {
        "id": "kPbDiLm_qJZw"
      }
    },
    {
      "cell_type": "markdown",
      "source": [
        "Google Colab uses Jupyter for displaying text (written in markdown)\n",
        "``` markdown\n",
        "## this is **markdown**\n",
        "I can even use $\\LaTeX$ equations here $...$\n",
        "$\\hbar \\omega= E$\n",
        "and embed pictures: ![Max Planck](https://upload.wikimedia.org/wikipedia/commons/thumb/1/16/Max_Planck_Wirkungsquantums_20050815.jpg/179px-Max_Planck_Wirkungsquantums_20050815.jpg)\n",
        "```\n",
        "## this is **markdown**\n",
        "I can even use $\\LaTeX$ equations here $...$\n",
        "$\\hbar \\omega= E$\n",
        "and embed pictures: ![CC BY 2.5, Author unknown](https://upload.wikimedia.org/wikipedia/commons/thumb/1/16/Max_Planck_Wirkungsquantums_20050815.jpg/179px-Max_Planck_Wirkungsquantums_20050815.jpg)\n"
      ],
      "metadata": {
        "id": "1dU1_sdtqb8y"
      }
    },
    {
      "cell_type": "markdown",
      "source": [
        "You can add a text cell by pressing the **+ Text** button at the top of the page."
      ],
      "metadata": {
        "id": "PQ70sADmsu_J"
      }
    },
    {
      "cell_type": "markdown",
      "source": [
        "You can delete a cell by pressing the trashcan icon on the right toolbar of every cell\n"
      ],
      "metadata": {
        "id": "KIZpGWliwHpi"
      }
    },
    {
      "cell_type": "markdown",
      "source": [
        "of course we can also do some python coding by pressing the **+ Code** button at the top of the page"
      ],
      "metadata": {
        "id": "rQMbdqlpwTnt"
      }
    },
    {
      "cell_type": "code",
      "source": [
        "# this is a comment in a python cell\n",
        "5+5"
      ],
      "metadata": {
        "colab": {
          "base_uri": "https://localhost:8080/"
        },
        "id": "yGf9dgUVwSRP",
        "outputId": "91cd256f-e7f8-4d15-b381-ac52306840e7"
      },
      "execution_count": 4,
      "outputs": [
        {
          "output_type": "execute_result",
          "data": {
            "text/plain": [
              "10"
            ]
          },
          "metadata": {},
          "execution_count": 4
        }
      ]
    },
    {
      "cell_type": "markdown",
      "source": [
        "btw you execute a python cell by pressing **Shift + Enter**"
      ],
      "metadata": {
        "id": "6RETEbl5xNLx"
      }
    },
    {
      "cell_type": "code",
      "source": [
        "5/2"
      ],
      "metadata": {
        "colab": {
          "base_uri": "https://localhost:8080/"
        },
        "id": "rxGXw3oTw0rW",
        "outputId": "43ad18a2-38cd-40ec-b2c9-37be9456cb79"
      },
      "execution_count": 2,
      "outputs": [
        {
          "output_type": "execute_result",
          "data": {
            "text/plain": [
              "2.5"
            ]
          },
          "metadata": {},
          "execution_count": 2
        }
      ]
    },
    {
      "cell_type": "code",
      "source": [
        "5/0"
      ],
      "metadata": {
        "colab": {
          "base_uri": "https://localhost:8080/",
          "height": 181
        },
        "id": "oZ4Y0lYuw7Zc",
        "outputId": "6c933217-ca30-4328-b63c-3c29ab47fbff"
      },
      "execution_count": 3,
      "outputs": [
        {
          "output_type": "error",
          "ename": "ZeroDivisionError",
          "evalue": "ignored",
          "traceback": [
            "\u001b[0;31m---------------------------------------------------------------------------\u001b[0m",
            "\u001b[0;31mZeroDivisionError\u001b[0m                         Traceback (most recent call last)",
            "\u001b[0;32m<ipython-input-3-0106664d39e8>\u001b[0m in \u001b[0;36m<cell line: 1>\u001b[0;34m()\u001b[0m\n\u001b[0;32m----> 1\u001b[0;31m \u001b[0;36m5\u001b[0m\u001b[0;34m/\u001b[0m\u001b[0;36m0\u001b[0m\u001b[0;34m\u001b[0m\u001b[0;34m\u001b[0m\u001b[0m\n\u001b[0m",
            "\u001b[0;31mZeroDivisionError\u001b[0m: division by zero"
          ]
        }
      ]
    },
    {
      "cell_type": "code",
      "source": [
        "%pylab inline\n",
        "plot(np.arange(-10,10,.1), np.sin(np.arange(-10,10,.1)))"
      ],
      "metadata": {
        "colab": {
          "base_uri": "https://localhost:8080/",
          "height": 466
        },
        "id": "fwjBliakw-zj",
        "outputId": "cad824fe-abd7-4ae5-af59-284acdfbdcd4"
      },
      "execution_count": 13,
      "outputs": [
        {
          "output_type": "stream",
          "name": "stdout",
          "text": [
            "Populating the interactive namespace from numpy and matplotlib\n"
          ]
        },
        {
          "output_type": "execute_result",
          "data": {
            "text/plain": [
              "[<matplotlib.lines.Line2D at 0x7d6fa2056fe0>]"
            ]
          },
          "metadata": {},
          "execution_count": 13
        },
        {
          "output_type": "display_data",
          "data": {
            "text/plain": [
              "<Figure size 640x480 with 1 Axes>"
            ],
            "image/png": "[encoded data removed]"
          },
          "metadata": {}
        }
      ]
    },
    {
      "cell_type": "code",
      "source": [
        "def smart_divide(func):\n",
        "  def inner(a,b):\n",
        "    print(\"Let's try dividing again: {} by {}\".format(a,b))\n",
        "    if b==0:\n",
        "      print(\"Gotcha this time\")\n",
        "      return\n",
        "    return func(a,b)\n",
        "  return inner"
      ],
      "metadata": {
        "id": "2MFdQs-izMbZ"
      },
      "execution_count": 25,
      "outputs": []
    },
    {
      "cell_type": "code",
      "source": [
        "@smart_divide\n",
        "def divide(a,b):\n",
        "  print(a/b)"
      ],
      "metadata": {
        "id": "6fEzBF67zayx"
      },
      "execution_count": 26,
      "outputs": []
    },
    {
      "cell_type": "code",
      "source": [
        "divide(10,2)"
      ],
      "metadata": {
        "colab": {
          "base_uri": "https://localhost:8080/"
        },
        "id": "iQ6kU49a0xNd",
        "outputId": "f739a998-fd56-4984-d7c6-deb3f047739c"
      },
      "execution_count": 27,
      "outputs": [
        {
          "output_type": "stream",
          "name": "stdout",
          "text": [
            "Let's try dividing again: 10 by 2\n",
            "5.0\n"
          ]
        }
      ]
    },
    {
      "cell_type": "code",
      "source": [
        "divide(10,0)"
      ],
      "metadata": {
        "colab": {
          "base_uri": "https://localhost:8080/"
        },
        "id": "BbQ4cc081CtJ",
        "outputId": "1a783225-74ee-4a0f-a0a8-330955c0c51b"
      },
      "execution_count": 28,
      "outputs": [
        {
          "output_type": "stream",
          "name": "stdout",
          "text": [
            "Let's try dividing again: 10 by 0\n",
            "Gotcha this time\n"
          ]
        }
      ]
    },
    {
      "cell_type": "code",
      "source": [],
      "metadata": {
        "id": "CgPeaBJcpsGp"
      },
      "execution_count": null,
      "outputs": []
    }
  ]
}